{
  "nbformat": 4,
  "nbformat_minor": 0,
  "metadata": {
    "colab": {
      "provenance": []
    },
    "kernelspec": {
      "name": "python3",
      "display_name": "Python 3"
    },
    "language_info": {
      "name": "python"
    }
  },
  "cells": [
    {
      "cell_type": "markdown",
      "source": [
        "# **Libraries - Numpy**"
      ],
      "metadata": {
        "id": "z9MZDFtq9No7"
      }
    },
    {
      "cell_type": "code",
      "execution_count": null,
      "metadata": {
        "id": "mokjf0G08Oft"
      },
      "outputs": [],
      "source": [
        "\"\"\"\n",
        "Numpy is a python library used for working with arrays.\n",
        "\n",
        "it also has functions for working in domain of linear algebra, matrices etc..\n",
        "\n",
        "NUMPY stands for Numerical Python.\n",
        "\n",
        "the array object in numpy is called ndarray-n-dimensional array\n",
        "\"\"\""
      ]
    },
    {
      "cell_type": "code",
      "source": [
        "#no module called numpy - then execute\n",
        "pip install numpy"
      ],
      "metadata": {
        "colab": {
          "base_uri": "https://localhost:8080/"
        },
        "id": "ftS7Ke7l_u3L",
        "outputId": "5c8670f1-4669-4ea5-d9d0-b8d98a62e74a"
      },
      "execution_count": 1,
      "outputs": [
        {
          "output_type": "stream",
          "name": "stdout",
          "text": [
            "Requirement already satisfied: numpy in /usr/local/lib/python3.11/dist-packages (2.0.2)\n"
          ]
        }
      ]
    },
    {
      "cell_type": "code",
      "source": [
        "import numpy as np"
      ],
      "metadata": {
        "id": "frYRE_W1AFEK"
      },
      "execution_count": 2,
      "outputs": []
    },
    {
      "cell_type": "code",
      "source": [
        "arr=np.array([1,2,3,4])\n",
        "print(arr)\n",
        "print(type(arr))"
      ],
      "metadata": {
        "colab": {
          "base_uri": "https://localhost:8080/"
        },
        "id": "Qa9WFJVPAYni",
        "outputId": "2036ce8a-8f8f-4b74-fe81-00a57785e616"
      },
      "execution_count": 3,
      "outputs": [
        {
          "output_type": "stream",
          "name": "stdout",
          "text": [
            "[1 2 3 4]\n",
            "<class 'numpy.ndarray'>\n"
          ]
        }
      ]
    },
    {
      "cell_type": "code",
      "source": [
        "print(np.__version__)"
      ],
      "metadata": {
        "colab": {
          "base_uri": "https://localhost:8080/"
        },
        "id": "xpEOWLPiAkWU",
        "outputId": "373cdfbc-0a81-4176-8949-616a8e8a17e2"
      },
      "execution_count": 5,
      "outputs": [
        {
          "output_type": "stream",
          "name": "stdout",
          "text": [
            "2.0.2\n"
          ]
        }
      ]
    },
    {
      "cell_type": "markdown",
      "source": [
        "# **Dimensions in array**"
      ],
      "metadata": {
        "id": "WscS4s6IA_qN"
      }
    },
    {
      "cell_type": "code",
      "source": [
        "\"\"\"\n",
        "a dimensions in arrays is one level of array  depth(nested array)\n",
        "\n",
        "0-D Array\n",
        "1-D Array\n",
        "2-D Array\n",
        "3-D Array\n",
        "\"\"\""
      ],
      "metadata": {
        "id": "Lw9Cr7SlAxiI"
      },
      "execution_count": null,
      "outputs": []
    },
    {
      "cell_type": "code",
      "source": [
        "#0-D Array or Scalars - are the dimensions in an array. Each value in an array is 0-D\n",
        "\n",
        "import numpy as np\n",
        "arr=np.array(30)\n",
        "print(arr)"
      ],
      "metadata": {
        "colab": {
          "base_uri": "https://localhost:8080/"
        },
        "id": "HwD2J--QBmR8",
        "outputId": "e5db8745-8e74-416f-8ddc-a6e13a715dfa"
      },
      "execution_count": 6,
      "outputs": [
        {
          "output_type": "stream",
          "name": "stdout",
          "text": [
            "30\n"
          ]
        }
      ]
    },
    {
      "cell_type": "code",
      "source": [
        "#1-D Array or Uni dimensional - an array that has 0-D array elements\n",
        "import numpy as np\n",
        "arr=np.array([1,2,3,4,5,6])\n",
        "print(arr)"
      ],
      "metadata": {
        "colab": {
          "base_uri": "https://localhost:8080/"
        },
        "id": "hVCGbvJOB7_g",
        "outputId": "d0dd047b-c415-47b5-8f3a-375b6e14b502"
      },
      "execution_count": 7,
      "outputs": [
        {
          "output_type": "stream",
          "name": "stdout",
          "text": [
            "[1 2 3 4 5 6]\n"
          ]
        }
      ]
    },
    {
      "cell_type": "code",
      "source": [
        "#2-D Array  - an array that has 1-D arrays as its elements . used to represent matrix\n",
        "import numpy as np\n",
        "arr=np.array([[1,2,3],[4,5,6],[7,8,9]])\n",
        "print(arr)"
      ],
      "metadata": {
        "colab": {
          "base_uri": "https://localhost:8080/"
        },
        "id": "b2tABClCCNMM",
        "outputId": "0b6795d9-bfc5-4cbd-a6bc-4481fdc15db1"
      },
      "execution_count": 8,
      "outputs": [
        {
          "output_type": "stream",
          "name": "stdout",
          "text": [
            "[[1 2 3]\n",
            " [4 5 6]\n",
            " [7 8 9]]\n"
          ]
        }
      ]
    },
    {
      "cell_type": "code",
      "source": [
        "#3-D Array - an arrays that has 2-D array(matrices) as it elements\n",
        "import numpy as np\n",
        "arr=np.array([[[1,2,3],[4,5,6]],[[7,8,9],[10,11,12]]])\n",
        "print(arr)"
      ],
      "metadata": {
        "colab": {
          "base_uri": "https://localhost:8080/"
        },
        "id": "7UgwykUyCqT9",
        "outputId": "af5eb042-97aa-4629-fd57-9246cebba181"
      },
      "execution_count": 9,
      "outputs": [
        {
          "output_type": "stream",
          "name": "stdout",
          "text": [
            "[[[ 1  2  3]\n",
            "  [ 4  5  6]]\n",
            "\n",
            " [[ 7  8  9]\n",
            "  [10 11 12]]]\n"
          ]
        }
      ]
    },
    {
      "cell_type": "code",
      "source": [
        "a=np.array([[[1,2,3],[4,5,6]],[[7,8,9],[10,11,12]]])\n",
        "b=np.array([[1,2,3],[4,5,6],[7,8,9]])\n",
        "print(a.ndim)  #to find out the dimensions of array - ndim\n",
        "print(b.ndim)"
      ],
      "metadata": {
        "colab": {
          "base_uri": "https://localhost:8080/"
        },
        "id": "5JOVKgCRDRkW",
        "outputId": "e24efbd6-e33a-4923-80f9-d6c83435ea46"
      },
      "execution_count": 11,
      "outputs": [
        {
          "output_type": "stream",
          "name": "stdout",
          "text": [
            "3\n",
            "2\n"
          ]
        }
      ]
    },
    {
      "cell_type": "code",
      "source": [
        "#Higher dimensional arrays - ndmin\n",
        "\n",
        "x=np.array([1,2,3,4],ndmin=5)\n",
        "print(x)\n",
        "print(x.ndim)"
      ],
      "metadata": {
        "colab": {
          "base_uri": "https://localhost:8080/"
        },
        "id": "kmgClrBtDn0y",
        "outputId": "dca6037d-2895-4261-d0a1-8cb8189c3dd2"
      },
      "execution_count": 12,
      "outputs": [
        {
          "output_type": "stream",
          "name": "stdout",
          "text": [
            "[[[[[1 2 3 4]]]]]\n",
            "5\n"
          ]
        }
      ]
    },
    {
      "cell_type": "markdown",
      "source": [
        "# **Numpy Array Indexing**"
      ],
      "metadata": {
        "id": "00wRjp-2EjnI"
      }
    },
    {
      "cell_type": "code",
      "source": [
        "a=np.array([1,2,3,4,5,6])\n",
        "b=np.array([[1,2,3],[4,5,6],[7,8,9]])\n",
        "c=np.array([[[1,2,3],[4,5,6]],[[7,8,9],[10,11,12]]])\n",
        "print(b)"
      ],
      "metadata": {
        "colab": {
          "base_uri": "https://localhost:8080/"
        },
        "id": "KsqGi7hiEKEv",
        "outputId": "b69b9038-3821-4b0f-a809-b8c91fbc7d9d"
      },
      "execution_count": 16,
      "outputs": [
        {
          "output_type": "stream",
          "name": "stdout",
          "text": [
            "[[1 2 3]\n",
            " [4 5 6]\n",
            " [7 8 9]]\n"
          ]
        }
      ]
    },
    {
      "cell_type": "code",
      "source": [
        "print(a[2])"
      ],
      "metadata": {
        "colab": {
          "base_uri": "https://localhost:8080/"
        },
        "id": "_CsIcnQJE6tF",
        "outputId": "806d1c72-b45e-4b8f-802b-925b22f14510"
      },
      "execution_count": 14,
      "outputs": [
        {
          "output_type": "stream",
          "name": "stdout",
          "text": [
            "3\n"
          ]
        }
      ]
    },
    {
      "cell_type": "code",
      "source": [
        "print(a[2]+a[4])"
      ],
      "metadata": {
        "colab": {
          "base_uri": "https://localhost:8080/"
        },
        "id": "Hgk7Ro3dE-EV",
        "outputId": "afb3621a-d229-48a8-fcd5-184805c6af6c"
      },
      "execution_count": 15,
      "outputs": [
        {
          "output_type": "stream",
          "name": "stdout",
          "text": [
            "8\n"
          ]
        }
      ]
    },
    {
      "cell_type": "code",
      "source": [
        "print('2nd element on 1st row: ',b[0,1])"
      ],
      "metadata": {
        "colab": {
          "base_uri": "https://localhost:8080/"
        },
        "id": "z74BJIhgFCq9",
        "outputId": "64049a2d-e5c3-406f-815c-59c8c192ee20"
      },
      "execution_count": 20,
      "outputs": [
        {
          "output_type": "stream",
          "name": "stdout",
          "text": [
            "2nd element on 1st row:  2\n"
          ]
        }
      ]
    },
    {
      "cell_type": "code",
      "source": [
        "print('3rd element on 3rd row: ',b[2,2])"
      ],
      "metadata": {
        "colab": {
          "base_uri": "https://localhost:8080/"
        },
        "id": "c3jxDcUUFcGn",
        "outputId": "780a90d1-006d-4c29-af2c-42cfa465ffa6"
      },
      "execution_count": 23,
      "outputs": [
        {
          "output_type": "stream",
          "name": "stdout",
          "text": [
            "3rd element on 3rd row:  9\n"
          ]
        }
      ]
    },
    {
      "cell_type": "code",
      "source": [
        "print(c)"
      ],
      "metadata": {
        "colab": {
          "base_uri": "https://localhost:8080/"
        },
        "id": "1p3ss6-dGgbA",
        "outputId": "e3ea047c-8175-40b3-c31e-da06d6588b97"
      },
      "execution_count": 24,
      "outputs": [
        {
          "output_type": "stream",
          "name": "stdout",
          "text": [
            "[[[ 1  2  3]\n",
            "  [ 4  5  6]]\n",
            "\n",
            " [[ 7  8  9]\n",
            "  [10 11 12]]]\n"
          ]
        }
      ]
    },
    {
      "cell_type": "code",
      "source": [
        "print(c[0,1,2])"
      ],
      "metadata": {
        "colab": {
          "base_uri": "https://localhost:8080/"
        },
        "id": "rk60qbzZGxiu",
        "outputId": "3da65f17-de2b-407a-d3e7-9f75fca89138"
      },
      "execution_count": 25,
      "outputs": [
        {
          "output_type": "stream",
          "name": "stdout",
          "text": [
            "6\n"
          ]
        }
      ]
    },
    {
      "cell_type": "code",
      "source": [
        "print(c[1,0,1])"
      ],
      "metadata": {
        "colab": {
          "base_uri": "https://localhost:8080/"
        },
        "id": "4k66uMwZHGdv",
        "outputId": "fb6691b8-61a4-4647-87cb-a70586f0b8a2"
      },
      "execution_count": 26,
      "outputs": [
        {
          "output_type": "stream",
          "name": "stdout",
          "text": [
            "8\n"
          ]
        }
      ]
    },
    {
      "cell_type": "markdown",
      "source": [],
      "metadata": {
        "id": "KlwUX_cPHalD"
      }
    },
    {
      "cell_type": "code",
      "source": [],
      "metadata": {
        "id": "tTltJKenHRMa"
      },
      "execution_count": null,
      "outputs": []
    }
  ]
}